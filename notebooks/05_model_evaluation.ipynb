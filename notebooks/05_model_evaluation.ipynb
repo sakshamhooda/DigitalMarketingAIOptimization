{
 "cells": [
  {
   "cell_type": "code",
   "execution_count": null,
   "id": "ffd6c35f-25e2-41ab-b978-84e6baf9a2fc",
   "metadata": {},
   "outputs": [],
   "source": [
    "import pandas as pd\n",
    "from src.models.model_trainer import ModelTrainer\n",
    "from src.models.model_evaluator import ModelEvaluator\n",
    "from src.utils.visualization import plot_actual_vs_predicted, plot_feature_importance"
   ]
  },
  {
   "cell_type": "code",
   "execution_count": null,
   "id": "3559ba3a-ba0e-4706-a436-8d536e0fbd0c",
   "metadata": {},
   "outputs": [],
   "source": [
    "# Load the preprocessed data\n",
    "data = pd.read_csv('../data/processed/preprocessed_data.csv')"
   ]
  },
  {
   "cell_type": "code",
   "execution_count": null,
   "id": "2235de23-36e2-4f47-b74c-c853f4baf5e0",
   "metadata": {},
   "outputs": [],
   "source": [
    "# Split features and target\n",
    "X = data.drop(['ROAS', 'Date'], axis=1)\n",
    "y = data['ROAS']"
   ]
  },
  {
   "cell_type": "code",
   "execution_count": null,
   "id": "660f5a03-28c5-4342-b8c0-054ec503e1ef",
   "metadata": {},
   "outputs": [],
   "source": [
    "# Train the model\n",
    "trainer = ModelTrainer()\n",
    "X_train, X_test, y_train, y_test = trainer.train(X, y)\n",
    "model = trainer.get_trained_model()\n",
    "\n",
    "# Make predictions\n",
    "y_pred = model.predict(X_test)"
   ]
  },
  {
   "cell_type": "code",
   "execution_count": null,
   "id": "f929aac2-708d-4957-b699-74949645c92c",
   "metadata": {},
   "outputs": [],
   "source": [
    "# Evaluate the model\n",
    "evaluator = ModelEvaluator()\n",
    "metrics = evaluator.evaluate_model(y_test, y_pred)\n",
    "\n",
    "print(\"Model Evaluation Metrics:\")\n",
    "for metric, value in metrics.items():\n",
    "    print(f\"{metric}: {value:.4f}\")\n"
   ]
  },
  {
   "cell_type": "code",
   "execution_count": null,
   "id": "9eaf0868-fe1d-455d-af96-b25c8cd3977b",
   "metadata": {},
   "outputs": [],
   "source": [
    "# Evaluate the model\n",
    "evaluator = ModelEvaluator()\n",
    "metrics = evaluator.evaluate_model(y_test, y_pred)\n",
    "\n",
    "print(\"Model Evaluation Metrics:\")\n",
    "for metric, value in metrics.items():\n",
    "    print(f\"{metric}: {value:.4f}\")\n"
   ]
  }
 ],
 "metadata": {
  "kernelspec": {
   "display_name": "Python 3 (ipykernel)",
   "language": "python",
   "name": "python3"
  },
  "language_info": {
   "codemirror_mode": {
    "name": "ipython",
    "version": 3
   },
   "file_extension": ".py",
   "mimetype": "text/x-python",
   "name": "python",
   "nbconvert_exporter": "python",
   "pygments_lexer": "ipython3",
   "version": "3.10.14"
  }
 },
 "nbformat": 4,
 "nbformat_minor": 5
}
