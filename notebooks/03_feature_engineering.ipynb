{
 "cells": [
  {
   "cell_type": "markdown",
   "id": "3c697c65-aca2-4e52-ad0f-758c42b66105",
   "metadata": {},
   "source": [
    "# This script incorporates insights from our EDA:\n",
    "\n",
    "- **Lagged features for Spend and Clicks**:  \n",
    "  These were included as they showed significant correlations with Revenue.\n",
    "\n",
    "- **Efficiency metrics**:  \n",
    "  Added metrics like CPC, CTR, CVR, and ROAS as separate features to capture the efficiency of each campaign.\n",
    "\n",
    "- **Relative performance features**:  \n",
    "  Created features that compare each campaign’s performance to the mean performance for its source.\n",
    "\n",
    "- **'is_high_spend_day' feature**:  \n",
    "  This feature was added based on the results from the anomaly detection, identifying days with unusually high spend.\n"
   ]
  },
  {
   "cell_type": "code",
   "execution_count": 2,
   "id": "2fecf505-755d-433e-84db-4b9d4b929dd0",
   "metadata": {},
   "outputs": [],
   "source": [
    "import pandas as pd\n",
    "import numpy as np\n",
    "from sklearn.preprocessing import LabelEncoder"
   ]
  },
  {
   "cell_type": "code",
   "execution_count": 3,
   "id": "92b83179-2ec6-499d-b326-a92b42be44b3",
   "metadata": {},
   "outputs": [],
   "source": [
    "# Load the data\n",
    "data = pd.read_csv('../data/processed/combined_ad_data.csv')\n",
    "data['Date'] = pd.to_datetime(data['Date'])"
   ]
  },
  {
   "cell_type": "code",
   "execution_count": 4,
   "id": "4580c377-e2c2-454b-b47b-fd2b278e6cfa",
   "metadata": {},
   "outputs": [],
   "source": [
    "def create_time_features(df):\n",
    "    df['day_of_week'] = df['Date'].dt.dayofweek\n",
    "    df['is_weekend'] = df['Date'].dt.dayofweek.isin([5,6]).astype(int)\n",
    "    df['month'] = df['Date'].dt.month\n",
    "    df['quarter'] = df['Date'].dt.quarter\n",
    "    return df\n",
    "\n",
    "def create_lagged_features(df):\n",
    "    # Based on the correlation analysis, we'll create lagged features for Spend and Clicks\n",
    "    for col in ['Spend', 'Clicks']:\n",
    "        for lag in [1, 7, 30]:\n",
    "            df[f'{col}_lag_{lag}'] = df.groupby('Source')[col].shift(lag)\n",
    "    return df\n",
    "\n",
    "def create_rolling_averages(df):\n",
    "    for col in ['Spend', 'Clicks', 'Impressions', 'Conversions', 'Revenue']:\n",
    "        for window in [7, 30]:\n",
    "            df[f'{col}_rolling_{window}d'] = df.groupby('Source')[col].rolling(window=window).mean().reset_index(0,drop=True)\n",
    "    return df\n",
    "\n",
    "def create_efficiency_features(df):\n",
    "    df['CPC'] = df['Spend'] / df['Clicks']\n",
    "    df['CTR'] = df['Clicks'] / df['Impressions']\n",
    "    df['CVR'] = df['Conversions'] / df['Clicks']\n",
    "    df['ROAS'] = df['Revenue'] / df['Spend']\n",
    "    return df\n",
    "\n",
    "def create_relative_performance_features(df):\n",
    "    # Create features that compare performance to the mean of each source\n",
    "    for metric in ['CTR', 'CVR', 'ROAS']:\n",
    "        df[f'{metric}_vs_mean'] = df.groupby('Source')[metric].transform(lambda x: x / x.mean())\n",
    "    return df\n",
    "\n",
    "def encode_categorical_features(df):\n",
    "    le = LabelEncoder()\n",
    "    df['Source_encoded'] = le.fit_transform(df['Source'])\n",
    "    df['Campaign_type_encoded'] = le.fit_transform(df['Campaign type'])\n",
    "    return df\n",
    "\n",
    "def create_anomaly_feature(df):\n",
    "    # Based on the anomaly detection results, create a feature for high spend days\n",
    "    df['is_high_spend_day'] = (df['Spend'] > df['Spend'].quantile(0.95)).astype(int)\n",
    "    return df"
   ]
  },
  {
   "cell_type": "code",
   "execution_count": 5,
   "id": "97c11e35-6307-45bf-8681-8b87e09fef19",
   "metadata": {},
   "outputs": [
    {
     "name": "stdout",
     "output_type": "stream",
     "text": [
      "Index(['Date', 'Campaign type', 'Impressions', 'Clicks', 'Spend',\n",
      "       'Conversions', 'Revenue', 'Source', 'Reach', 'Channel', 'Sessions',\n",
      "       'Website Conversions', 'CTR', 'CPC', 'CVR', 'ROAS', 'day_of_week',\n",
      "       'is_weekend', 'month', 'quarter', 'Spend_lag_1', 'Spend_lag_7',\n",
      "       'Spend_lag_30', 'Clicks_lag_1', 'Clicks_lag_7', 'Clicks_lag_30',\n",
      "       'Spend_rolling_7d', 'Spend_rolling_30d', 'Clicks_rolling_7d',\n",
      "       'Clicks_rolling_30d', 'Impressions_rolling_7d',\n",
      "       'Impressions_rolling_30d', 'Conversions_rolling_7d',\n",
      "       'Conversions_rolling_30d', 'Revenue_rolling_7d', 'Revenue_rolling_30d',\n",
      "       'CTR_vs_mean', 'CVR_vs_mean', 'ROAS_vs_mean', 'Source_encoded',\n",
      "       'Campaign_type_encoded', 'is_high_spend_day'],\n",
      "      dtype='object')\n",
      "         Date   Campaign type  Impressions  Clicks   Spend  Conversions  \\\n",
      "30 2024-01-08  Search Network       3655.0   437.0   947.8         54.6   \n",
      "31 2024-01-08         YouTube      38573.0     5.0   119.6          0.0   \n",
      "32 2024-01-09   Cross-network     108980.0   751.0   969.1         33.3   \n",
      "34 2024-01-09  Search Network       4013.0   456.0  1080.4         35.5   \n",
      "35 2024-01-09         YouTube      38372.0     3.0   119.6          0.0   \n",
      "\n",
      "    Revenue      Source  Reach  Channel  ...  Conversions_rolling_7d  \\\n",
      "30  11383.4  Google Ads    0.0      0.0  ...               18.100000   \n",
      "31      0.0  Google Ads    0.0      0.0  ...               15.757143   \n",
      "32   7902.4  Google Ads    0.0      0.0  ...               20.514286   \n",
      "34   6906.1  Google Ads    0.0      0.0  ...               23.157143   \n",
      "35      0.0  Google Ads    0.0      0.0  ...               17.628571   \n",
      "\n",
      "    Conversions_rolling_30d  Revenue_rolling_7d  Revenue_rolling_30d  \\\n",
      "30                 9.866667         3666.928571          1986.200000   \n",
      "31                 9.866667         3175.242857          1986.200000   \n",
      "32                10.826667         4304.157143          2230.400000   \n",
      "34                11.716667         4859.457143          2341.746667   \n",
      "35                11.716667         3741.700000          2341.746667   \n",
      "\n",
      "    CTR_vs_mean  CVR_vs_mean  ROAS_vs_mean  Source_encoded  \\\n",
      "30     6.729535          0.0      4.966442               0   \n",
      "31     0.007296          0.0      0.000000               0   \n",
      "32     0.387868          0.0      3.371945               0   \n",
      "34     6.395679          0.0      2.643251               0   \n",
      "35     0.004400          0.0      0.000000               0   \n",
      "\n",
      "    Campaign_type_encoded  is_high_spend_day  \n",
      "30                      5                  0  \n",
      "31                      7                  0  \n",
      "32                      1                  0  \n",
      "34                      5                  0  \n",
      "35                      7                  0  \n",
      "\n",
      "[5 rows x 42 columns]\n"
     ]
    }
   ],
   "source": [
    "# Apply feature engineering\n",
    "data = create_time_features(data)\n",
    "data = create_lagged_features(data)\n",
    "data = create_rolling_averages(data)\n",
    "data = create_efficiency_features(data)\n",
    "data = create_relative_performance_features(data)\n",
    "data = encode_categorical_features(data)\n",
    "data = create_anomaly_feature(data)\n",
    "\n",
    "# Remove rows with NaN values created by lagged features\n",
    "data = data.dropna()\n",
    "\n",
    "# Save the feature-engineered dataset\n",
    "data.to_csv('../data/processed/feature_engineered_data.csv', index=False)\n",
    "\n",
    "print(data.columns)\n",
    "print(data.head())"
   ]
  },
  {
   "cell_type": "markdown",
   "id": "04b13cf2-dfb6-497a-b87d-ae8f4b755402",
   "metadata": {
    "jp-MarkdownHeadingCollapsed": true
   },
   "source": [
    "- The new dataset could be used for model development"
   ]
  }
 ],
 "metadata": {
  "kernelspec": {
   "display_name": "Python 3 (ipykernel)",
   "language": "python",
   "name": "python3"
  },
  "language_info": {
   "codemirror_mode": {
    "name": "ipython",
    "version": 3
   },
   "file_extension": ".py",
   "mimetype": "text/x-python",
   "name": "python",
   "nbconvert_exporter": "python",
   "pygments_lexer": "ipython3",
   "version": "3.10.14"
  }
 },
 "nbformat": 4,
 "nbformat_minor": 5
}
