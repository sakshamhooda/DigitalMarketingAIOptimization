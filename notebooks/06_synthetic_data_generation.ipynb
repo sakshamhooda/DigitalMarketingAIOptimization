{
 "cells": [
  {
   "cell_type": "code",
   "execution_count": 3,
   "id": "1a831652-48b1-4e1b-8ef3-6bc4d9152a28",
   "metadata": {},
   "outputs": [
    {
     "ename": "ImportError",
     "evalue": "attempted relative import with no known parent package",
     "output_type": "error",
     "traceback": [
      "\u001b[0;31m---------------------------------------------------------------------------\u001b[0m",
      "\u001b[0;31mImportError\u001b[0m                               Traceback (most recent call last)",
      "Cell \u001b[0;32mIn[3], line 1\u001b[0m\n\u001b[0;32m----> 1\u001b[0m \u001b[38;5;28;01mfrom\u001b[39;00m \u001b[38;5;21;01m.\u001b[39;00m\u001b[38;5;21;01m.\u001b[39;00m\u001b[38;5;21;01msrc\u001b[39;00m\u001b[38;5;21;01m.\u001b[39;00m\u001b[38;5;21;01msynthetic\u001b[39;00m\u001b[38;5;21;01m.\u001b[39;00m\u001b[38;5;21;01msynthetic_data_generator\u001b[39;00m \u001b[38;5;28;01mimport\u001b[39;00m SyntheticDataGenerator\n\u001b[1;32m      2\u001b[0m \u001b[38;5;28;01mimport\u001b[39;00m \u001b[38;5;21;01mmatplotlib\u001b[39;00m\u001b[38;5;21;01m.\u001b[39;00m\u001b[38;5;21;01mpyplot\u001b[39;00m \u001b[38;5;28;01mas\u001b[39;00m \u001b[38;5;21;01mplt\u001b[39;00m\n\u001b[1;32m      3\u001b[0m \u001b[38;5;28;01mimport\u001b[39;00m \u001b[38;5;21;01mseaborn\u001b[39;00m \u001b[38;5;28;01mas\u001b[39;00m \u001b[38;5;21;01msns\u001b[39;00m\n",
      "\u001b[0;31mImportError\u001b[0m: attempted relative import with no known parent package"
     ]
    }
   ],
   "source": [
    "from ..src.synthetic.synthetic_data_generator import SyntheticDataGenerator\n",
    "import matplotlib.pyplot as plt\n",
    "import seaborn as sns"
   ]
  },
  {
   "cell_type": "code",
   "execution_count": null,
   "id": "5fdcc91b-de91-4886-8a46-ac946dec42b7",
   "metadata": {},
   "outputs": [],
   "source": [
    "# Generate synthetic data\n",
    "generator = SyntheticDataGenerator(start_date='2024-01-01', num_days=365)\n",
    "synthetic_data = generator.generate_multi_channel_data()"
   ]
  },
  {
   "cell_type": "code",
   "execution_count": null,
   "id": "651e532f-d267-4c16-905d-fdb430e8ead9",
   "metadata": {},
   "outputs": [],
   "source": [
    "# Display the first few rows\n",
    "print(synthetic_data.head())"
   ]
  },
  {
   "cell_type": "code",
   "execution_count": null,
   "id": "0ba712d6-532b-4254-b060-e7353217b5bd",
   "metadata": {},
   "outputs": [],
   "source": [
    "# Visualize the synthetic data\n",
    "plt.figure(figsize=(12, 6))\n",
    "for channel in synthetic_data['Channel'].unique():\n",
    "    channel_data = synthetic_data[synthetic_data['Channel'] == channel]\n",
    "    plt.plot(channel_data['Date'], channel_data['ROAS'], label=channel)\n",
    "\n",
    "plt.title('Synthetic ROAS Data by Channel')\n",
    "plt.xlabel('Date')\n",
    "plt.ylabel('ROAS')\n",
    "plt.legend()\n",
    "plt.show()"
   ]
  },
  {
   "cell_type": "code",
   "execution_count": null,
   "id": "90953772-2335-42c3-a93a-790823455918",
   "metadata": {},
   "outputs": [],
   "source": [
    "# Correlation heatmap\n",
    "plt.figure(figsize=(10, 8))\n",
    "sns.heatmap(synthetic_data.corr(), annot=True, cmap='coolwarm')\n",
    "plt.title('Correlation Heatmap of Synthetic Data')\n",
    "plt.show()\n"
   ]
  },
  {
   "cell_type": "code",
   "execution_count": null,
   "id": "1cbe2e87-fb13-4c80-9f63-74fef99c64f6",
   "metadata": {},
   "outputs": [],
   "source": [
    "# Save synthetic data\n",
    "synthetic_data.to_csv('../data/synthetic/synthetic_ad_data.csv', index=False)\n",
    "print(\"Synthetic data saved to '../data/synthetic/synthetic_ad_data.csv'\")"
   ]
  }
 ],
 "metadata": {
  "kernelspec": {
   "display_name": "Python 3 (ipykernel)",
   "language": "python",
   "name": "python3"
  },
  "language_info": {
   "codemirror_mode": {
    "name": "ipython",
    "version": 3
   },
   "file_extension": ".py",
   "mimetype": "text/x-python",
   "name": "python",
   "nbconvert_exporter": "python",
   "pygments_lexer": "ipython3",
   "version": "3.10.14"
  }
 },
 "nbformat": 4,
 "nbformat_minor": 5
}
