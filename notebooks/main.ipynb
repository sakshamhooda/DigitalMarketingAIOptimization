{
 "cells": [
  {
   "cell_type": "code",
   "execution_count": null,
   "id": "af58dcd1-bed4-4536-a581-05a8febbcb6b",
   "metadata": {},
   "outputs": [],
   "source": [
    "import pandas as pd\n",
    "import numpy as np\n",
    "import matplotlib.pyplot as plt\n",
    "import seaborn as sns\n",
    "from sklearn.model_selection import train_test_split\n",
    "from sklearn.preprocessing import StandardScaler"
   ]
  },
  {
   "cell_type": "code",
   "execution_count": null,
   "id": "4d8d77e1-c16a-4c60-891b-4e962d3bccc5",
   "metadata": {},
   "outputs": [],
   "source": [
    "from src.data.data_loader import DataLoader\n",
    "from src.data.data_preprocessor import DataPreprocessor\n",
    "from src.features.feature_engineering import FeatureEngineer\n",
    "from src.features.feature_selection import FeatureSelector\n",
    "from src.models.ensemble_model import EnsembleModel\n",
    "from src.models.time_series_models import TimeSeriesModels\n",
    "from src.utils.anomaly_detection import AnomalyDetector\n",
    "from src.utils.causality_analysis import granger_causality\n",
    "from src.utils.model_interpretation import ModelInterpreter\n",
    "from src.utils.online_learning import ConceptDriftDetector\n",
    "from src.models.model_evaluator import ModelEvaluator\n",
    "from src.utils.visualization import plot_feature_importance, plot_actual_vs_predicted"
   ]
  },
  {
   "cell_type": "code",
   "execution_count": null,
   "id": "dba89f58-7df3-4399-a6cf-7ff4668b6f31",
   "metadata": {},
   "outputs": [],
   "source": [
    "# 1. Data Loading\n",
    "print(\"Loading data...\")\n",
    "data_loader = DataLoader()\n",
    "raw_data = data_loader.load_data(['google_ads.csv', 'meta_ads.csv', 'microsoft_ads.csv'])\n"
   ]
  },
  {
   "cell_type": "code",
   "execution_count": null,
   "id": "9e6da5e0-7b93-40fb-b542-49dd905ed9e4",
   "metadata": {},
   "outputs": [],
   "source": [
    "# 2. Data Preprocessing\n",
    "print(\"Preprocessing data...\")\n",
    "preprocessor = DataPreprocessor()\n",
    "processed_data = preprocessor.preprocess(raw_data)"
   ]
  },
  {
   "cell_type": "code",
   "execution_count": null,
   "id": "6673588c-fc79-413e-b037-9e18ba95dd92",
   "metadata": {},
   "outputs": [],
   "source": [
    "# 3. Feature Engineering\n",
    "print(\"Engineering features...\")\n",
    "feature_engineer = FeatureEngineer()\n",
    "featured_data = feature_engineer.engineer_features(processed_data)"
   ]
  },
  {
   "cell_type": "code",
   "execution_count": null,
   "id": "28372567-acfe-4b07-b5f2-13f538a2f67d",
   "metadata": {},
   "outputs": [],
   "source": [
    "# 4. Exploratory Data Analysis\n",
    "print(\"Performing exploratory data analysis...\")\n",
    "plt.figure(figsize=(12, 6))\n",
    "sns.heatmap(featured_data.corr(), annot=False, cmap='coolwarm')\n",
    "plt.title('Correlation Heatmap of Features')\n",
    "plt.show()"
   ]
  },
  {
   "cell_type": "code",
   "execution_count": null,
   "id": "e5dd6e29-6dd7-4764-a116-4cf495551e6a",
   "metadata": {},
   "outputs": [],
   "source": [
    "# 5. Feature Selection\n",
    "print(\"Selecting features...\")\n",
    "feature_selector = FeatureSelector()\n",
    "X = featured_data.drop(['ROAS', 'Date'], axis=1)\n",
    "y = featured_data['ROAS']\n",
    "X_selected = feature_selector.select_features(X, y)\n",
    "selected_features = X.columns[feature_selector.get_selected_features()]\n",
    "\n",
    "print(f\"Selected features: {selected_features}\")"
   ]
  },
  {
   "cell_type": "code",
   "execution_count": null,
   "id": "5f9a5000-d5cc-418f-aa51-ad6d3c1a3446",
   "metadata": {},
   "outputs": [],
   "source": [
    "# 6. Train-Test Split\n",
    "X_train, X_test, y_train, y_test = train_test_split(X_selected, y, test_size=0.2, shuffle=False)"
   ]
  },
  {
   "cell_type": "code",
   "execution_count": null,
   "id": "0b685cbe-4d94-435d-9f4a-9070ee36e667",
   "metadata": {},
   "outputs": [],
   "source": [
    "# 7. Model Training\n",
    "print(\"Training ensemble model...\")\n",
    "ensemble_model = EnsembleModel()\n",
    "ensemble_model.fit(X_train, y_train)"
   ]
  },
  {
   "cell_type": "code",
   "execution_count": null,
   "id": "562ec83e-608e-4a46-b997-c125773f8f3d",
   "metadata": {},
   "outputs": [],
   "source": [
    "# 8. Model Evaluation\n",
    "print(\"Evaluating model...\")\n",
    "evaluator = ModelEvaluator()\n",
    "y_pred = ensemble_model.predict(X_test)\n",
    "metrics = evaluator.evaluate_model(y_test, y_pred)\n",
    "print(\"Model Performance:\")\n",
    "for metric, value in metrics.items():\n",
    "    print(f\"{metric}: {value:.4f}\")"
   ]
  },
  {
   "cell_type": "code",
   "execution_count": null,
   "id": "70702ed5-af42-469e-b8f6-351aed3308f3",
   "metadata": {},
   "outputs": [],
   "source": [
    "# 9. Model Interpretation\n",
    "print(\"Interpreting model...\")\n",
    "interpreter = ModelInterpreter()\n",
    "shap_values = interpreter.explain_model(ensemble_model.best_xgb, X_test)\n",
    "interpreter.plot_shap_summary(shap_values, X_test)"
   ]
  },
  {
   "cell_type": "code",
   "execution_count": null,
   "id": "ef608270-ce7d-43e6-8f0d-a9ac3ff2e8a8",
   "metadata": {},
   "outputs": [],
   "source": [
    "# 10. Time Series Forecasting\n",
    "print(\"Performing time series forecasting...\")\n",
    "ts_models = TimeSeriesModels()\n",
    "last_date = featured_data['Date'].max()\n",
    "future_dates = pd.date_range(start=last_date, periods=30)\n",
    "sarima_forecast = ts_models.sarima_forecast(y)\n",
    "prophet_forecast = ts_models.prophet_forecast(pd.DataFrame({'ds': featured_data['Date'], 'y': y}))\n",
    "\n",
    "plt.figure(figsize=(12, 6))\n",
    "plt.plot(featured_data['Date'], y, label='Actual')\n",
    "plt.plot(future_dates, sarima_forecast, label='SARIMA Forecast')\n",
    "plt.plot(prophet_forecast['ds'], prophet_forecast['yhat'], label='Prophet Forecast')\n",
    "plt.title('ROAS Forecasting')\n",
    "plt.xlabel('Date')\n",
    "plt.ylabel('ROAS')\n",
    "plt.legend()\n",
    "plt.show()\n"
   ]
  },
  {
   "cell_type": "code",
   "execution_count": null,
   "id": "96f29ed7-fb14-44fc-bde7-14c9739cf019",
   "metadata": {},
   "outputs": [],
   "source": [
    "# 11. Anomaly Detection\n",
    "print(\"Detecting anomalies...\")\n",
    "anomaly_detector = AnomalyDetector()\n",
    "outliers = anomaly_detector.detect_outliers(X)\n",
    "plt.figure(figsize=(12, 6))\n",
    "plt.scatter(featured_data['Date'], y, c=outliers, cmap='viridis')\n",
    "plt.title('ROAS Anomalies')\n",
    "plt.xlabel('Date')\n",
    "plt.ylabel('ROAS')\n",
    "plt.colorbar(label='Anomaly Score')\n",
    "plt.show()"
   ]
  },
  {
   "cell_type": "code",
   "execution_count": null,
   "id": "cdcb720f-0ee2-4bf9-b602-907423e106cd",
   "metadata": {},
   "outputs": [],
   "source": [
    "# 12. Causality Analysis\n",
    "print(\"Performing causality analysis...\")\n",
    "granger_results = granger_causality(featured_data, ['ROAS', 'Spend'])\n",
    "print(\"Granger Causality Test Results:\")\n",
    "print(granger_results)"
   ]
  },
  {
   "cell_type": "code",
   "execution_count": null,
   "id": "dde6b6dc-f78b-43ce-86fe-5d401392cec4",
   "metadata": {},
   "outputs": [],
   "source": [
    "# 13. Online Learning and Concept Drift Detection\n",
    "print(\"Detecting concept drift...\")\n",
    "drift_detector = ConceptDriftDetector()\n",
    "drift_points = drift_detector.detect_drift(featured_data[['Date', 'ROAS']])\n",
    "\n",
    "plt.figure(figsize=(12, 6))\n",
    "plt.plot(featured_data['Date'], y)\n",
    "for drift_point in drift_points:\n",
    "    plt.axvline(x=featured_data['Date'].iloc[drift_point], color='r', linestyle='--')\n",
    "plt.title('ROAS with Concept Drift Points')\n",
    "plt.xlabel('Date')\n",
    "plt.ylabel('ROAS')\n",
    "plt.show()"
   ]
  },
  {
   "cell_type": "code",
   "execution_count": null,
   "id": "39539837-db81-48e0-a3fb-c6fa29e04dcb",
   "metadata": {},
   "outputs": [],
   "source": [
    "# 14. Recommendations\n",
    "print(\"\\nRecommendations based on the analysis:\")\n",
    "print(\"1. Focus on optimizing the top features identified by SHAP analysis.\")\n",
    "print(\"2. Monitor and investigate the detected anomalies in ROAS.\")\n",
    "print(\"3. Consider the forecasted ROAS when planning future ad spend.\")\n",
    "print(\"4. Be aware of the detected concept drift points and potentially retrain the model at these points.\")\n",
    "print(\"5. Adjust strategies based on the causality analysis between ROAS and Spend.\")\n",
    "\n",
    "# 15. Next Steps\n",
    "print(\"\\nNext steps:\")\n",
    "print(\"1. Implement real-time monitoring of ad performance metrics.\")\n",
    "print(\"2. Develop an automated system for adjusting ad spend based on model predictions.\")\n",
    "print(\"3. Conduct A/B tests to validate the effectiveness of the model's recommendations.\")\n",
    "print(\"4. Regularly retrain the model with new data to maintain its accuracy.\")\n",
    "print(\"5. Explore additional external factors that might influence ad performance.\")"
   ]
  }
 ],
 "metadata": {
  "kernelspec": {
   "display_name": "Python 3 (ipykernel)",
   "language": "python",
   "name": "python3"
  },
  "language_info": {
   "codemirror_mode": {
    "name": "ipython",
    "version": 3
   },
   "file_extension": ".py",
   "mimetype": "text/x-python",
   "name": "python",
   "nbconvert_exporter": "python",
   "pygments_lexer": "ipython3",
   "version": "3.10.14"
  }
 },
 "nbformat": 4,
 "nbformat_minor": 5
}
