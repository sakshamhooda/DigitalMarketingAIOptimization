{
 "cells": [
  {
   "cell_type": "markdown",
   "id": "9fd179d4-28b0-41df-ba6b-6cd12551e9c8",
   "metadata": {
    "editable": true,
    "slideshow": {
     "slide_type": ""
    },
    "tags": []
   },
   "source": [
    "you may run these commands in terminal\n",
    "\n",
    "particularly in this notebook functions to run streamlit and FastAPI have been designed using subprocess.run()\n",
    "\n",
    "Both functions initiate in sepearte thread, hence no blocking to main thread\n"
   ]
  },
  {
   "cell_type": "code",
   "execution_count": 1,
   "id": "a877a59b-8db6-486b-8dde-0146de1ab8c2",
   "metadata": {
    "editable": true,
    "scrolled": true,
    "slideshow": {
     "slide_type": ""
    },
    "tags": []
   },
   "outputs": [
    {
     "name": "stdout",
     "output_type": "stream",
     "text": [
      "--2024-09-11 07:58:42--  https://bin.equinox.io/c/bNyj1mQVY4c/ngrok-v3-stable-linux-amd64.tgz\n",
      "Resolving bin.equinox.io (bin.equinox.io)... 18.205.222.128, 54.161.241.46, 52.202.168.65, ...\n",
      "Connecting to bin.equinox.io (bin.equinox.io)|18.205.222.128|:443... connected.\n",
      "WARNING: cannot verify bin.equinox.io's certificate, issued by ‘CN=R10,O=Let's Encrypt,C=US’:\n",
      "  Unable to locally verify the issuer's authority.\n",
      "HTTP request sent, awaiting response... 200 OK\n",
      "Length: 9085090 (8.7M) [application/octet-stream]\n",
      "Saving to: ‘ngrok-v3-stable-linux-amd64.tgz.5’\n",
      "\n",
      "ngrok-v3-stable-lin 100%[===================>]   8.66M  4.59MB/s    in 1.9s    \n",
      "\n",
      "2024-09-11 07:58:45 (4.59 MB/s) - ‘ngrok-v3-stable-linux-amd64.tgz.5’ saved [9085090/9085090]\n",
      "\n",
      "ngrok\n",
      "mv: 'ngrok' and '/home/sagemaker-user/DigitalMarketingAIOptimization/ngrok' are the same file\n"
     ]
    }
   ],
   "source": [
    "!wget https://bin.equinox.io/c/bNyj1mQVY4c/ngrok-v3-stable-linux-amd64.tgz --no-check-certificate\n",
    "!tar -xvzf ngrok-v3-stable-linux-amd64.tgz\n",
    "!mv ngrok ~/DigitalMarketingAIOptimization"
   ]
  },
  {
   "cell_type": "code",
   "execution_count": 2,
   "id": "06573dfb-9b7a-4f7f-bd6d-e8c0f6c91811",
   "metadata": {
    "editable": true,
    "slideshow": {
     "slide_type": ""
    },
    "tags": []
   },
   "outputs": [
    {
     "name": "stdout",
     "output_type": "stream",
     "text": [
      "Requirement already satisfied: pyngrok in /opt/conda/lib/python3.10/site-packages (7.2.0)\n",
      "Requirement already satisfied: PyYAML>=5.1 in /opt/conda/lib/python3.10/site-packages (from pyngrok) (6.0.1)\n"
     ]
    }
   ],
   "source": [
    "!pip install pyngrok\n"
   ]
  },
  {
   "cell_type": "code",
   "execution_count": 3,
   "id": "3880d3be-517e-486c-a83e-bff75ae3378e",
   "metadata": {
    "editable": true,
    "slideshow": {
     "slide_type": ""
    },
    "tags": []
   },
   "outputs": [],
   "source": [
    "import subprocess\n",
    "import threading\n",
    "import time\n",
    "from pyngrok import ngrok\n",
    "import os\n",
    "import signal\n",
    "import socket\n",
    "import sys"
   ]
  },
  {
   "cell_type": "code",
   "execution_count": 4,
   "id": "9bf0ce6e-5693-48ea-9f2a-dd335f78a7f2",
   "metadata": {
    "editable": true,
    "slideshow": {
     "slide_type": ""
    },
    "tags": []
   },
   "outputs": [],
   "source": [
    "# Set the correct project root directory\n",
    "project_root = '/home/sagemaker-user/DigitalMarketingAIOptimization'\n",
    "sys.path.insert(0, project_root)"
   ]
  },
  {
   "cell_type": "code",
   "execution_count": 5,
   "id": "27768bcb-e937-409b-9940-61e80b0be6bc",
   "metadata": {
    "editable": true,
    "slideshow": {
     "slide_type": ""
    },
    "tags": []
   },
   "outputs": [],
   "source": [
    "def get_free_port(start_port):\n",
    "    port = start_port\n",
    "    while True:\n",
    "        with socket.socket(socket.AF_INET, socket.SOCK_STREAM) as s:\n",
    "            try:\n",
    "                s.bind(('', port))\n",
    "                return port\n",
    "            except OSError:\n",
    "                port += 1\n",
    "\n",
    "def run_streamlit(port):\n",
    "    try:\n",
    "        env = os.environ.copy()\n",
    "        env['PYTHONPATH'] = f\"{project_root}:{env.get('PYTHONPATH', '')}\"\n",
    "        app_path = os.path.join(project_root, \"app\", \"dashboard\", \"app.py\")\n",
    "        subprocess.run([\"streamlit\", \"run\", app_path, \"--server.port\", str(port)], env=env, check=True)\n",
    "    except subprocess.CalledProcessError as e:\n",
    "        print(f\"Error running Streamlit: {e}\")\n",
    "\n",
    "def run_fastapi(port):\n",
    "    try:\n",
    "        env = os.environ.copy()\n",
    "        env['PYTHONPATH'] = f\"{project_root}:{env.get('PYTHONPATH', '')}\"\n",
    "        api_path = os.path.join(project_root, \"app\", \"api\", \"main.py\")\n",
    "        subprocess.run([\"uvicorn\", \"app.api.main:app\", \"--host\", \"0.0.0.0\", \"--port\", str(port)], env=env)\n",
    "    except subprocess.CalledProcessError as e:\n",
    "        print(f\"Error running FastAPI: {e}\")"
   ]
  },
  {
   "cell_type": "code",
   "execution_count": 6,
   "id": "0a772310-b00c-463c-a4cb-1605bc0f3f96",
   "metadata": {
    "editable": true,
    "slideshow": {
     "slide_type": ""
    },
    "tags": []
   },
   "outputs": [
    {
     "name": "stdout",
     "output_type": "stream",
     "text": [
      "Using port 8502 for Streamlit\n",
      "Using port 8000 for FastAPI\n"
     ]
    }
   ],
   "source": [
    "# Get free ports\n",
    "streamlit_port = get_free_port(8501)\n",
    "fastapi_port = get_free_port(8000)\n",
    "\n",
    "print(f\"Using port {streamlit_port} for Streamlit\")\n",
    "print(f\"Using port {fastapi_port} for FastAPI\")"
   ]
  },
  {
   "cell_type": "code",
   "execution_count": 7,
   "id": "b5c01be6-b9fe-4411-8874-a89e030fcc01",
   "metadata": {
    "editable": true,
    "slideshow": {
     "slide_type": ""
    },
    "tags": []
   },
   "outputs": [
    {
     "name": "stdout",
     "output_type": "stream",
     "text": [
      "\n",
      "Collecting usage statistics. To deactivate, set browser.gatherUsageStats to false.\n",
      "\n",
      "\n",
      "  You can now view your Streamlit app in your browser.\n",
      "\n",
      "  Local URL: http://localhost:8502\n",
      "  Network URL: http://169.255.255.2:8502\n",
      "  External URL: http://43.204.56.180:8502\n",
      "\n"
     ]
    },
    {
     "name": "stderr",
     "output_type": "stream",
     "text": [
      "INFO:     Started server process [27082]\n",
      "INFO:     Waiting for application startup.\n",
      "INFO:     Application startup complete.\n",
      "INFO:     Uvicorn running on http://0.0.0.0:8000 (Press CTRL+C to quit)\n"
     ]
    }
   ],
   "source": [
    "# Start Streamlit and FastAPI in separate threads\n",
    "streamlit_thread = threading.Thread(target=run_streamlit, args=(streamlit_port,))\n",
    "fastapi_thread = threading.Thread(target=run_fastapi, args=(fastapi_port,))\n",
    "\n",
    "streamlit_thread.start()\n",
    "fastapi_thread.start()\n",
    "\n",
    "# Wait for the servers to start\n",
    "time.sleep(10)"
   ]
  },
  {
   "cell_type": "code",
   "execution_count": 8,
   "id": "d13711e4-b14b-4f49-b5d2-f370f61b2743",
   "metadata": {},
   "outputs": [
    {
     "name": "stdout",
     "output_type": "stream",
     "text": [
      "Current working directory: /home/sagemaker-user/DigitalMarketingAIOptimization\n",
      "\n",
      "Contents of the data directory:\n",
      "data/raw/googleads-performance.csv\n",
      "data/raw/microsoftads-performance.csv\n",
      "data/raw/metaads-performance.csv\n",
      "data/raw/website-landings.csv\n",
      "data/raw/.ipynb_checkpoints/metaads-performance-checkpoint.csv\n",
      "data/raw/.ipynb_checkpoints/googleads-performance-checkpoint.csv\n",
      "data/raw/.ipynb_checkpoints/microsoftads-performance-checkpoint.csv\n",
      "data/processed/combined_ad_data.csv\n",
      "data/processed/feature_engineered_data.csv\n",
      "data/processed/featured_data_with_anomalies.csv\n",
      "data/processed/.ipynb_checkpoints/combined_ad_data-checkpoint.csv\n",
      "data/synthetic/synthetic_ad_data.csv\n"
     ]
    }
   ],
   "source": [
    "print(\"Current working directory:\", os.getcwd())\n",
    "print(\"\\nContents of the data directory:\")\n",
    "for root, dirs, files in os.walk('data'):\n",
    "    for file in files:\n",
    "        print(os.path.join(root, file))"
   ]
  },
  {
   "cell_type": "code",
   "execution_count": 9,
   "id": "fec71d80-8b86-45ec-ae0b-4138d7d7fcf4",
   "metadata": {
    "editable": true,
    "slideshow": {
     "slide_type": ""
    },
    "tags": []
   },
   "outputs": [],
   "source": [
    "ngrok.set_auth_token(\"2ltmnY5NoRmDJqAwZN2Uvt88VMG_3UJr4P85WwUYcGJYUxToM\")"
   ]
  },
  {
   "cell_type": "code",
   "execution_count": 10,
   "id": "81aea79a-168a-472a-9815-e111f708e32f",
   "metadata": {
    "editable": true,
    "slideshow": {
     "slide_type": ""
    },
    "tags": []
   },
   "outputs": [
    {
     "name": "stdout",
     "output_type": "stream",
     "text": [
      "Streamlit URL: https://b77c-43-204-56-180.ngrok-free.app\n",
      "FastAPI URL: https://51ab-43-204-56-180.ngrok-free.app\n"
     ]
    },
    {
     "name": "stderr",
     "output_type": "stream",
     "text": [
      "t=2024-09-11T07:59:05+0000 lvl=warn msg=\"failed to check for update\" obj=updater err=\"Post \\\"https://update.equinox.io/check\\\": context deadline exceeded\"\n"
     ]
    }
   ],
   "source": [
    "streamlit_tunnel = ngrok.connect(streamlit_port)\n",
    "fastapi_tunnel = ngrok.connect(fastapi_port)\n",
    "\n",
    "print(f\"Streamlit URL: {streamlit_tunnel.public_url}\")\n",
    "print(f\"FastAPI URL: {fastapi_tunnel.public_url}\")"
   ]
  },
  {
   "cell_type": "code",
   "execution_count": null,
   "id": "436454cd-8da2-49b8-b356-6fea3a5197f0",
   "metadata": {
    "editable": true,
    "slideshow": {
     "slide_type": ""
    },
    "tags": []
   },
   "outputs": [
    {
     "name": "stderr",
     "output_type": "stream",
     "text": [
      "2024-09-11 07:59:31.265 Serialization of dataframe to Arrow table was unsuccessful due to: (\"Could not convert Timestamp('2024-03-31 18:33:10.352504832') with type Timestamp: tried to convert to int64\", 'Conversion failed for column Date with type object'). Applying automatic fixes for column types to make the dataframe Arrow-compatible.\n",
      "2024-09-11 07:59:31.717 Uncaught app exception\n",
      "Traceback (most recent call last):\n",
      "  File \"/opt/conda/lib/python3.10/site-packages/streamlit/runtime/scriptrunner/exec_code.py\", line 88, in exec_func_with_error_handling\n",
      "    result = func()\n",
      "  File \"/opt/conda/lib/python3.10/site-packages/streamlit/runtime/scriptrunner/script_runner.py\", line 590, in code_to_exec\n",
      "    exec(code, module.__dict__)\n",
      "  File \"/home/sagemaker-user/DigitalMarketingAIOptimization/app/dashboard/app.py\", line 127, in <module>\n",
      "    main()\n",
      "  File \"/home/sagemaker-user/DigitalMarketingAIOptimization/app/dashboard/app.py\", line 28, in main\n",
      "    display_data_overview(data)\n",
      "  File \"/home/sagemaker-user/DigitalMarketingAIOptimization/app/dashboard/app.py\", line 46, in display_data_overview\n",
      "    fig = plot_correlation_heatmap(data.drop('Date', axis=1))\n",
      "  File \"/home/sagemaker-user/DigitalMarketingAIOptimization/src/utils/visualizations_app.py\", line 26, in plot_correlation_heatmap\n",
      "    corr = df.corr()\n",
      "  File \"/opt/conda/lib/python3.10/site-packages/pandas/core/frame.py\", line 10704, in corr\n",
      "    mat = data.to_numpy(dtype=float, na_value=np.nan, copy=False)\n",
      "  File \"/opt/conda/lib/python3.10/site-packages/pandas/core/frame.py\", line 1889, in to_numpy\n",
      "    result = self._mgr.as_array(dtype=dtype, copy=copy, na_value=na_value)\n",
      "  File \"/opt/conda/lib/python3.10/site-packages/pandas/core/internals/managers.py\", line 1656, in as_array\n",
      "    arr = self._interleave(dtype=dtype, na_value=na_value)\n",
      "  File \"/opt/conda/lib/python3.10/site-packages/pandas/core/internals/managers.py\", line 1715, in _interleave\n",
      "    result[rl.indexer] = arr\n",
      "ValueError: could not convert string to float: 'Cross-network'\n",
      "2024-09-11 07:59:37.455 Uncaught app exception\n",
      "Traceback (most recent call last):\n",
      "  File \"/opt/conda/lib/python3.10/site-packages/streamlit/runtime/scriptrunner/exec_code.py\", line 88, in exec_func_with_error_handling\n",
      "    result = func()\n",
      "  File \"/opt/conda/lib/python3.10/site-packages/streamlit/runtime/scriptrunner/script_runner.py\", line 590, in code_to_exec\n",
      "    exec(code, module.__dict__)\n",
      "  File \"/home/sagemaker-user/DigitalMarketingAIOptimization/app/dashboard/app.py\", line 127, in <module>\n",
      "    main()\n",
      "  File \"/home/sagemaker-user/DigitalMarketingAIOptimization/app/dashboard/app.py\", line 34, in main\n",
      "    display_predictions(data)\n",
      "  File \"/home/sagemaker-user/DigitalMarketingAIOptimization/app/dashboard/app.py\", line 104, in display_predictions\n",
      "    features[col] = st.number_input(f'Enter {col}', value=data[col].mean())\n",
      "  File \"/opt/conda/lib/python3.10/site-packages/pandas/core/series.py\", line 6225, in mean\n",
      "    return NDFrame.mean(self, axis, skipna, numeric_only, **kwargs)\n",
      "  File \"/opt/conda/lib/python3.10/site-packages/pandas/core/generic.py\", line 11992, in mean\n",
      "    return self._stat_function(\n",
      "  File \"/opt/conda/lib/python3.10/site-packages/pandas/core/generic.py\", line 11949, in _stat_function\n",
      "    return self._reduce(\n",
      "  File \"/opt/conda/lib/python3.10/site-packages/pandas/core/series.py\", line 6133, in _reduce\n",
      "    return op(delegate, skipna=skipna, **kwds)\n",
      "  File \"/opt/conda/lib/python3.10/site-packages/pandas/core/nanops.py\", line 147, in f\n",
      "    result = alt(values, axis=axis, skipna=skipna, **kwds)\n",
      "  File \"/opt/conda/lib/python3.10/site-packages/pandas/core/nanops.py\", line 404, in new_func\n",
      "    result = func(values, axis=axis, skipna=skipna, mask=mask, **kwargs)\n",
      "  File \"/opt/conda/lib/python3.10/site-packages/pandas/core/nanops.py\", line 720, in nanmean\n",
      "    the_sum = _ensure_numeric(the_sum)\n",
      "  File \"/opt/conda/lib/python3.10/site-packages/pandas/core/nanops.py\", line 1693, in _ensure_numeric\n",
      "    raise TypeError(f\"Could not convert string '{x}' to numeric\")\n",
      "TypeError: Could not convert string 'Cross-networkDisplay NetworkSearch NetworkYouTubeCross-networkDisplay NetworkSearch NetworkYouTubeCross-networkDisplay NetworkSearch NetworkYouTubeCross-networkDisplay NetworkSearch NetworkYouTubeCross-networkDisplay NetworkSearch NetworkYouTubeCross-networkDisplay NetworkSearch NetworkYouTubeCross-networkDisplay NetworkSearch NetworkYouTubeCross-networkDisplay NetworkSearch NetworkYouTubeCross-networkDisplay NetworkSearch NetworkYouTubeCross-networkDisplay NetworkSearch NetworkYouTubeCross-networkDisplay NetworkSearch NetworkYouTubeCross-networkDisplay NetworkSearch NetworkYouTubeCross-networkDisplay NetworkSearch NetworkYouTubeCross-networkDisplay NetworkSearch NetworkYouTubeCross-networkDisplay NetworkSearch NetworkYouTubeCross-networkDisplay NetworkSearch NetworkYouTubeCross-networkDisplay NetworkSearch NetworkYouTubeCross-networkDisplay NetworkSearch NetworkYouTubeCross-networkDisplay NetworkSearch NetworkYouTubeCross-networkDisplay NetworkSearch NetworkYouTubeCross-networkDisplay NetworkSearch NetworkYouTubeCross-networkDisplay NetworkSearch NetworkYouTubeCross-networkDisplay NetworkSearch NetworkYouTubeCross-networkDisplay NetworkSearch NetworkYouTubeCross-networkDisplay NetworkSearch NetworkYouTubeCross-networkDisplay NetworkSearch NetworkYouTubeCross-networkDisplay NetworkSearch NetworkYouTubeCross-networkDisplay NetworkSearch NetworkYouTubeCross-networkDisplay NetworkSearch NetworkYouTubeCross-networkDisplay NetworkSearch NetworkYouTubeCross-networkDisplay NetworkSearch NetworkYouTubeCross-networkDisplay NetworkSearch NetworkYouTubeCross-networkDisplay NetworkSearch NetworkYouTubeCross-networkDisplay NetworkSearch NetworkYouTubeCross-networkSearch NetworkYouTubeCross-networkDisplay NetworkSearch NetworkYouTubeCross-networkDisplay NetworkSearch NetworkYouTubeCross-networkDisplay NetworkSearch NetworkYouTubeCross-networkDisplay NetworkSearch NetworkYouTubeCross-networkDisplay NetworkSearch NetworkYouTubeCross-networkDisplay NetworkSearch NetworkYouTubeCross-networkDisplay NetworkSearch NetworkYouTubeCross-networkDisplay NetworkSearch NetworkYouTubeCross-networkDisplay NetworkSearch NetworkYouTubeCross-networkDisplay NetworkSearch NetworkYouTubeCross-networkDisplay NetworkSearch NetworkYouTubeCross-networkDisplay NetworkSearch NetworkYouTubeCross-networkSearch NetworkYouTubeCross-networkDisplay NetworkSearch NetworkYouTubeCross-networkDisplay NetworkSearch NetworkYouTubeCross-networkDisplay NetworkSearch NetworkYouTubeCross-networkDisplay NetworkSearch NetworkYouTubeCross-networkDisplay NetworkSearch NetworkYouTubeCross-networkDisplay NetworkSearch NetworkYouTubeCross-networkDisplay NetworkSearch NetworkYouTubeCross-networkDisplay NetworkSearch NetworkYouTubeCross-networkDisplay NetworkSearch NetworkYouTubeCross-networkDisplay NetworkSearch NetworkYouTubeCross-networkDisplay NetworkSearch NetworkYouTubeCross-networkDisplay NetworkSearch NetworkYouTubeCross-networkDisplay NetworkSearch NetworkYouTubeCross-networkDisplay NetworkSearch NetworkYouTubeCross-networkSearch NetworkYouTubeCross-networkDisplay NetworkSearch NetworkYouTubeCross-networkDisplay NetworkSearch NetworkYouTubeCross-networkDisplay NetworkSearch NetworkYouTubeCross-networkDisplay NetworkSearch NetworkYouTubeCross-networkDisplay NetworkSearch NetworkYouTubeCross-networkDisplay NetworkSearch NetworkYouTubeCross-networkDisplay NetworkSearch NetworkYouTubeCross-networkDisplay NetworkSearch NetworkYouTubeCross-networkSearch NetworkYouTubeCross-networkSearch NetworkYouTubeCross-networkDisplay NetworkSearch NetworkYouTubeCross-networkDisplay NetworkSearch NetworkYouTubeCross-networkDisplay NetworkSearch NetworkYouTubeCross-networkSearch NetworkYouTubeCross-networkDisplay NetworkSearch NetworkYouTubeCross-networkDisplay NetworkSearch NetworkYouTubeCross-networkDisplay NetworkSearch NetworkYouTubeCross-networkDisplay NetworkSearch NetworkYouTubeCross-networkDisplay NetworkSearch NetworkYouTubeCross-networkSearch NetworkYouTubeCross-networkSearch NetworkYouTubeCross-networkDisplay NetworkSearch NetworkYouTubeCross-networkDisplay NetworkSearch NetworkYouTubeCross-networkDisplay NetworkSearch NetworkYouTubeCross-networkDisplay NetworkSearch NetworkYouTubeCross-networkDisplay NetworkSearch NetworkYouTubeCross-networkDisplay NetworkSearch NetworkYouTubeCross-networkDisplay NetworkSearch NetworkYouTubeCross-networkDisplay NetworkSearch NetworkYouTubeCross-networkDisplay NetworkSearch NetworkYouTubeCross-networkDisplay NetworkSearch NetworkYouTubeCross-networkDisplay NetworkSearch NetworkYouTubeCross-networkDisplay NetworkSearch NetworkYouTubeCross-networkDisplay NetworkSearch NetworkYouTubeCross-networkDisplay NetworkSearch NetworkYouTubeCross-networkDisplay NetworkSearch NetworkYouTubeCross-networkDisplay NetworkSearch NetworkYouTubeCross-networkDisplay NetworkSearch NetworkYouTubeCross-networkDisplay NetworkSearch NetworkYouTubeCross-networkDisplay NetworkSearch NetworkYouTubeCross-networkSearch NetworkYouTubeCross-networkSearch NetworkYouTubeCross-networkDisplay NetworkSearch NetworkYouTubeCross-networkDisplay NetworkSearch NetworkYouTubeCross-networkDisplay NetworkSearch NetworkYouTubeCross-networkDisplay NetworkSearch NetworkYouTubeCross-networkDisplay NetworkSearch NetworkYouTubeCross-networkDisplay NetworkSearch NetworkYouTubeCross-networkSearch NetworkYouTubeCross-networkDisplay NetworkSearch NetworkYouTubeCross-networkDisplay NetworkSearch NetworkYouTubeCross-networkDisplay NetworkSearch NetworkYouTubeCross-networkDisplay NetworkSearch NetworkYouTubeCross-networkDisplay NetworkSearch NetworkYouTubeCross-networkDisplay NetworkSearch NetworkYouTubeCross-networkSearch NetworkYouTubeCross-networkDisplay NetworkSearch NetworkYouTubeCross-networkDisplay NetworkSearch NetworkYouTubeCross-networkDisplay NetworkSearch NetworkYouTubeCross-networkDisplay NetworkSearch NetworkYouTubeCross-networkDisplay NetworkSearch NetworkYouTubeCross-networkDisplay NetworkSearch NetworkYouTubeCross-networkDisplay NetworkSearch NetworkYouTubeCross-networkDisplay NetworkSearch NetworkYouTubeCross-networkDisplay NetworkSearch NetworkYouTubeCross-networkDisplay NetworkSearch NetworkYouTubeCross-networkDisplay NetworkSearch NetworkYouTubeCross-networkDisplay NetworkSearch NetworkYouTubeCross-networkDisplay NetworkSearch NetworkYouTubeCross-networkDisplay NetworkSearch NetworkYouTubeCross-networkDisplay NetworkSearch NetworkYouTubeCross-networkDisplay NetworkSearch NetworkYouTubeCross-networkDisplay NetworkSearch NetworkYouTubeCross-networkDisplay NetworkSearch NetworkYouTubeCross-networkDisplay NetworkSearch NetworkYouTubeCross-networkDisplay NetworkSearch NetworkYouTubeCross-networkDisplay NetworkSearch NetworkYouTubeCross-networkDisplay NetworkSearch NetworkYouTubeCross-networkDisplay NetworkSearch NetworkYouTubeCross-networkDisplay NetworkSearch NetworkYouTubeCross-networkDisplay NetworkSearch NetworkYouTubeCross-networkDisplay NetworkSearch NetworkYouTubeCross-networkDisplay NetworkSearch NetworkYouTubeCross-networkDisplay NetworkSearch NetworkYouTubeCross-networkDisplay NetworkSearch NetworkYouTubeCross-networkDisplay NetworkSearch NetworkYouTubeCross-networkDisplay NetworkSearch NetworkYouTubeCross-networkDisplay NetworkSearch NetworkYouTubeCross-networkDisplay NetworkSearch NetworkYouTubeCross-networkDisplay NetworkSearch NetworkYouTubeCross-networkSearch NetworkYouTubeCross-networkDisplay NetworkSearch NetworkYouTubeCross-networkDisplay NetworkSearch NetworkYouTubeCross-networkDisplay NetworkSearch NetworkYouTubeCross-networkDisplay NetworkSearch NetworkYouTubeCross-networkDisplay NetworkSearch NetworkYouTubeCross-networkDisplay NetworkSearch NetworkYouTubeCross-networkSearch NetworkYouTubeCross-networkDisplay NetworkSearch NetworkYouTubeCross-networkDisplay NetworkSearch NetworkYouTubeCross-networkDisplay NetworkSearch NetworkYouTubeCross-networkDisplay NetworkSearch NetworkYouTubeCross-networkDisplay NetworkSearch NetworkYouTubeCross-networkDisplay NetworkSearch NetworkYouTubeCross-networkDisplay NetworkSearch NetworkYouTubeCross-networkDisplay NetworkSearch NetworkYouTubeCross-networkDisplay NetworkSearch NetworkYouTubeCross-networkDisplay NetworkSearch NetworkYouTubeCross-networkDisplay NetworkSearch NetworkYouTubeCross-networkDisplay NetworkSearch NetworkYouTubeCross-networkDisplay NetworkSearch NetworkYouTubeCross-networkDisplay NetworkSearch NetworkYouTubeCross-networkDisplay NetworkSearch NetworkYouTubeCross-networkDisplay NetworkSearch NetworkYouTubeCross-networkDisplay NetworkSearch NetworkYouTubeCross-networkDisplay NetworkSearch NetworkYouTubeCross-networkDisplay NetworkSearch NetworkYouTubeCross-networkDisplay NetworkSearch NetworkYouTubeCross-networkDisplay NetworkSearch NetworkYouTubeCross-networkCross-networkCross-networkCross-networkCross-networkCross-networkCross-networkCross-networkCross-networkCross-networkCross-networkCross-networkCross-networkCross-networkCross-networkCross-networkCross-networkCross-networkCross-networkCross-networkCross-networkCross-networkCross-networkCross-networkCross-networkCross-networkCross-networkCross-networkCross-networkCross-networkCross-networkCross-networkCross-networkCross-networkCross-networkCross-networkCross-networkCross-networkCross-networkCross-networkCross-networkCross-networkCross-networkCross-networkCross-networkCross-networkCross-networkCross-networkCross-networkCross-networkCross-networkCross-networkCross-networkCross-networkCross-networkCross-networkCross-networkCross-networkCross-networkCross-networkCross-networkCross-networkCross-networkCross-networkCross-networkCross-networkCross-networkCross-networkCross-networkCross-networkCross-networkCross-networkCross-networkCross-networkCross-networkCross-networkCross-networkCross-networkCross-networkCross-networkCross-networkCross-networkCross-networkCross-networkCross-networkCross-networkCross-networkCross-networkCross-networkCross-networkCross-networkCross-networkCross-networkCross-networkCross-networkCross-networkCross-networkCross-networkCross-networkCross-networkCross-networkCross-networkCross-networkCross-networkCross-networkCross-networkCross-networkCross-networkCross-networkCross-networkCross-networkCross-networkCross-networkCross-networkCross-networkCross-networkCross-networkCross-networkCross-networkCross-networkCross-networkCross-networkCross-networkCross-networkCross-networkCross-networkCross-networkCross-networkCross-networkCross-networkCross-networkCross-networkCross-networkCross-networkCross-networkCross-networkCross-networkCross-networkCross-networkCross-networkCross-networkCross-networkCross-networkCross-networkCross-networkCross-networkCross-networkCross-networkCross-networkCross-networkCross-networkCross-networkCross-networkCross-networkCross-networkCross-networkCross-networkCross-networkCross-networkCross-networkCross-networkCross-networkCross-networkCross-networkCross-networkCross-networkCross-networkCross-networkCross-networkCross-networkCross-networkCross-networkCross-networkCross-networkCross-networkCross-networkCross-networkCross-networkCross-networkCross-networkCross-networkCross-networkAudiencePerformance maxSearch & contentShoppingAudiencePerformance maxSearch & contentShoppingAudiencePerformance maxSearch & contentShoppingAudiencePerformance maxSearch & contentShoppingAudiencePerformance maxSearch & contentShoppingAudiencePerformance maxSearch & contentShoppingAudiencePerformance maxSearch & contentShoppingAudiencePerformance maxSearch & contentShoppingAudiencePerformance maxSearch & contentShoppingAudiencePerformance maxSearch & contentShoppingAudiencePerformance maxSearch & contentShoppingAudiencePerformance maxSearch & contentShoppingAudiencePerformance maxSearch & contentShoppingAudiencePerformance maxSearch & contentShoppingAudiencePerformance maxSearch & contentShoppingAudiencePerformance maxSearch & contentShoppingAudiencePerformance maxSearch & contentShoppingAudiencePerformance maxSearch & contentShoppingAudiencePerformance maxSearch & contentShoppingAudiencePerformance maxSearch & contentShoppingAudiencePerformance maxSearch & contentShoppingAudienceSearch & contentShoppingAudienceSearch & contentShoppingAudiencePerformance maxSearch & contentShoppingAudienceSearch & contentShoppingAudiencePerformance maxSearch & contentShoppingAudienceSearch & contentShoppingAudienceSearch & contentShoppingAudiencePerformance maxSearch & contentShoppingAudiencePerformance maxSearch & contentShoppingAudiencePerformance maxSearch & contentShoppingAudienceSearch & contentShoppingAudienceSearch & contentShoppingAudiencePerformance maxSearch & contentShoppingAudiencePerformance maxSearch & contentShoppingAudiencePerformance maxSearch & contentShoppingAudiencePerformance maxSearch & contentShoppingAudiencePerformance maxSearch & contentShoppingAudiencePerformance maxSearch & contentShoppingAudiencePerformance maxSearch & contentShoppingAudiencePerformance maxSearch & contentShoppingAudiencePerformance maxSearch & contentShoppingAudiencePerformance maxSearch & contentShoppingAudiencePerformance maxSearch & contentShoppingAudiencePerformance maxSearch & contentShoppingAudiencePerformance maxSearch & contentShoppingAudiencePerformance maxSearch & contentShoppingAudiencePerformance maxSearch & contentShoppingAudiencePerformance maxSearch & contentShoppingAudiencePerformance maxSearch & contentShoppingAudiencePerformance maxSearch & contentShoppingAudiencePerformance maxSearch & contentShoppingAudiencePerformance maxSearch & contentShoppingAudiencePerformance maxSearch & contentShoppingAudiencePerformance maxSearch & contentShoppingAudiencePerformance maxSearch & contentShoppingAudiencePerformance maxSearch & contentShoppingAudiencePerformance maxSearch & contentShoppingAudiencePerformance maxSearch & contentShoppingAudiencePerformance maxSearch & contentShoppingAudiencePerformance maxSearch & contentShoppingAudiencePerformance maxSearch & contentShoppingAudiencePerformance maxSearch & contentShoppingAudiencePerformance maxSearch & contentShoppingAudiencePerformance maxSearch & contentShoppingAudiencePerformance maxSearch & contentShoppingAudiencePerformance maxSearch & contentShoppingAudiencePerformance maxSearch & contentShoppingAudiencePerformance maxSearch & contentShoppingAudiencePerformance maxSearch & contentShoppingAudiencePerformance maxSearch & contentShoppingAudiencePerformance maxSearch & contentShoppingAudiencePerformance maxSearch & contentShoppingAudiencePerformance maxSearch & contentShoppingAudiencePerformance maxSearch & contentShoppingAudiencePerformance maxSearch & contentShoppingAudiencePerformance maxSearch & contentShoppingAudiencePerformance maxSearch & contentShoppingAudiencePerformance maxSearch & contentShoppingAudiencePerformance maxSearch & contentShoppingAudiencePerformance maxSearch & contentShoppingAudiencePerformance maxSearch & contentShoppingAudiencePerformance maxSearch & contentShoppingAudiencePerformance maxSearch & contentShoppingAudiencePerformance maxSearch & contentShoppingAudiencePerformance maxSearch & contentShoppingAudiencePerformance maxSearch & contentShoppingAudiencePerformance maxSearch & contentShoppingAudiencePerformance maxSearch & contentShoppingAudiencePerformance maxSearch & contentShoppingAudiencePerformance maxSearch & contentShoppingAudiencePerformance maxSearch & contentShoppingAudiencePerformance maxSearch & contentShoppingAudiencePerformance maxSearch & contentShoppingAudiencePerformance maxSearch & contentShoppingAudiencePerformance maxSearch & contentShoppingAudiencePerformance maxSearch & contentShoppingAudiencePerformance maxSearch & contentShoppingAudiencePerformance maxSearch & contentShoppingAudiencePerformance maxSearch & contentShoppingAudiencePerformance maxSearch & contentShoppingAudiencePerformance maxSearch & contentShoppingAudiencePerformance maxSearch & contentShoppingAudiencePerformance maxSearch & contentShoppingAudiencePerformance maxSearch & contentShoppingAudiencePerformance maxSearch & contentShoppingAudiencePerformance maxSearch & contentShoppingAudiencePerformance maxSearch & contentShoppingAudiencePerformance maxSearch & contentShoppingAudiencePerformance maxSearch & contentShoppingAudiencePerformance maxSearch & contentShoppingAudiencePerformance maxSearch & contentShoppingAudiencePerformance maxSearch & contentShoppingAudiencePerformance maxSearch & contentShoppingAudiencePerformance maxSearch & contentShoppingAudiencePerformance maxSearch & contentShoppingAudiencePerformance maxSearch & contentShoppingAudiencePerformance maxSearch & contentShoppingAudiencePerformance maxSearch & contentShoppingAudiencePerformance maxSearch & contentShoppingAudiencePerformance maxSearch & contentShoppingAudiencePerformance maxSearch & contentShoppingAudiencePerformance maxSearch & contentShoppingAudiencePerformance maxSearch & contentShoppingAudiencePerformance maxSearch & contentShoppingAudiencePerformance maxSearch & contentShoppingAudiencePerformance maxSearch & contentShoppingAudiencePerformance maxSearch & contentShoppingAudiencePerformance maxSearch & contentShoppingAudiencePerformance maxSearch & contentShoppingAudiencePerformance maxSearch & contentShoppingAudiencePerformance maxSearch & contentShoppingAudiencePerformance maxSearch & contentShoppingAudiencePerformance maxSearch & contentShoppingAudiencePerformance maxSearch & contentShoppingAudiencePerformance maxSearch & contentShoppingAudiencePerformance maxSearch & contentShoppingAudiencePerformance maxSearch & contentShoppingAudiencePerformance maxSearch & contentShoppingAudiencePerformance maxSearch & contentShoppingAudiencePerformance maxSearch & contentShoppingAudiencePerformance maxSearch & contentShoppingAudiencePerformance maxSearch & contentShoppingAudiencePerformance maxSearch & contentShoppingAudiencePerformance maxSearch & contentShoppingAudiencePerformance maxSearch & contentShoppingAudiencePerformance maxSearch & contentShoppingAudiencePerformance maxSearch & contentShoppingAudiencePerformance maxSearch & contentShoppingAudiencePerformance maxSearch & contentShoppingAudiencePerformance maxSearch & contentShoppingAudiencePerformance maxSearch & contentShoppingAudiencePerformance maxSearch & contentShoppingAudiencePerformance maxSearch & contentShoppingAudiencePerformance maxSearch & contentShoppingAudiencePerformance maxSearch & contentShoppingAudiencePerformance maxSearch & contentShoppingAudiencePerformance maxSearch & contentShoppingAudiencePerformance maxSearch & contentShoppingAudiencePerformance maxSearch & contentShoppingAudiencePerformance maxSearch & contentShoppingAudiencePerformance maxSearch & contentShoppingAudiencePerformance maxSearch & contentShoppingAudiencePerformance maxSearch & contentShoppingAudiencePerformance maxSearch & contentShoppingAudiencePerformance maxSearch & contentShoppingAudiencePerformance maxSearch & contentShoppingAudiencePerformance maxSearch & contentShoppingAudiencePerformance maxSearch & contentShoppingAudiencePerformance maxSearch & contentShoppingAudiencePerformance maxSearch & contentShoppingAudiencePerformance maxSearch & contentShoppingAudiencePerformance maxSearch & contentShoppingAudiencePerformance maxSearch & contentShoppingAudiencePerformance maxSearch & contentShoppingAudiencePerformance maxSearch & contentShoppingAudiencePerformance maxSearch & contentShoppingAudiencePerformance maxSearch & contentShoppingAudiencePerformance maxSearch & contentShoppingAudiencePerformance maxSearch & contentShoppingAudiencePerformance maxSearch & contentShoppingAudiencePerformance maxSearch & contentShopping' to numeric\n",
      "[I 2024-09-11 07:59:47,234] A new study created in memory with name: no-name-ce6a4aa3-3154-4a1d-a1b2-15c8da58a3eb\n",
      "[W 2024-09-11 07:59:47,266] Trial 0 failed with parameters: {'n_estimators': 222, 'max_depth': 10, 'learning_rate': 0.025675001244248256, 'subsample': 0.7715324877667658} because of the following error: ValueError('\\nAll the 5 fits failed.\\nIt is very likely that your model is misconfigured.\\nYou can try to debug the error by setting error_score=\\'raise\\'.\\n\\nBelow are more details about the failures:\\n--------------------------------------------------------------------------------\\n5 fits failed with the following error:\\nTraceback (most recent call last):\\n  File \"/opt/conda/lib/python3.10/site-packages/sklearn/model_selection/_validation.py\", line 686, in _fit_and_score\\n    estimator.fit(X_train, y_train, **fit_params)\\n  File \"/opt/conda/lib/python3.10/site-packages/xgboost/core.py\", line 620, in inner_f\\n    return func(**kwargs)\\n  File \"/opt/conda/lib/python3.10/site-packages/xgboost/sklearn.py\", line 988, in fit\\n    train_dmatrix, evals = _wrap_evaluation_matrices(\\n  File \"/opt/conda/lib/python3.10/site-packages/xgboost/sklearn.py\", line 448, in _wrap_evaluation_matrices\\n    train_dmatrix = create_dmatrix(\\n  File \"/opt/conda/lib/python3.10/site-packages/xgboost/sklearn.py\", line 908, in _create_dmatrix\\n    return DMatrix(**kwargs, nthread=self.n_jobs)\\n  File \"/opt/conda/lib/python3.10/site-packages/xgboost/core.py\", line 620, in inner_f\\n    return func(**kwargs)\\n  File \"/opt/conda/lib/python3.10/site-packages/xgboost/core.py\", line 743, in __init__\\n    handle, feature_names, feature_types = dispatch_data_backend(\\n  File \"/opt/conda/lib/python3.10/site-packages/xgboost/data.py\", line 970, in dispatch_data_backend\\n    return _from_pandas_df(data, enable_categorical, missing, threads,\\n  File \"/opt/conda/lib/python3.10/site-packages/xgboost/data.py\", line 417, in _from_pandas_df\\n    data, feature_names, feature_types = _transform_pandas_df(\\n  File \"/opt/conda/lib/python3.10/site-packages/xgboost/data.py\", line 391, in _transform_pandas_df\\n    _invalid_dataframe_dtype(data)\\n  File \"/opt/conda/lib/python3.10/site-packages/xgboost/data.py\", line 283, in _invalid_dataframe_dtype\\n    raise ValueError(msg)\\nValueError: DataFrame.dtypes for data must be int, float, bool or category. When categorical type is supplied, The experimental DMatrix parameter`enable_categorical` must be set to `True`.  Invalid columns:Campaign type: object, Source: object\\n').\n",
      "Traceback (most recent call last):\n",
      "  File \"/opt/conda/lib/python3.10/site-packages/optuna/study/_optimize.py\", line 197, in _run_trial\n",
      "    value_or_values = func(trial)\n",
      "  File \"/home/sagemaker-user/DigitalMarketingAIOptimization/src/models/ensemble_model.py\", line 22, in objective\n",
      "    return np.mean(cross_val_score(model, X, y, cv=TimeSeriesSplit(n_splits=5)))\n",
      "  File \"/opt/conda/lib/python3.10/site-packages/sklearn/model_selection/_validation.py\", line 515, in cross_val_score\n",
      "    cv_results = cross_validate(\n",
      "  File \"/opt/conda/lib/python3.10/site-packages/sklearn/model_selection/_validation.py\", line 285, in cross_validate\n",
      "    _warn_or_raise_about_fit_failures(results, error_score)\n",
      "  File \"/opt/conda/lib/python3.10/site-packages/sklearn/model_selection/_validation.py\", line 367, in _warn_or_raise_about_fit_failures\n",
      "    raise ValueError(all_fits_failed_message)\n",
      "ValueError: \n",
      "All the 5 fits failed.\n",
      "It is very likely that your model is misconfigured.\n",
      "You can try to debug the error by setting error_score='raise'.\n",
      "\n",
      "Below are more details about the failures:\n",
      "--------------------------------------------------------------------------------\n",
      "5 fits failed with the following error:\n",
      "Traceback (most recent call last):\n",
      "  File \"/opt/conda/lib/python3.10/site-packages/sklearn/model_selection/_validation.py\", line 686, in _fit_and_score\n",
      "    estimator.fit(X_train, y_train, **fit_params)\n",
      "  File \"/opt/conda/lib/python3.10/site-packages/xgboost/core.py\", line 620, in inner_f\n",
      "    return func(**kwargs)\n",
      "  File \"/opt/conda/lib/python3.10/site-packages/xgboost/sklearn.py\", line 988, in fit\n",
      "    train_dmatrix, evals = _wrap_evaluation_matrices(\n",
      "  File \"/opt/conda/lib/python3.10/site-packages/xgboost/sklearn.py\", line 448, in _wrap_evaluation_matrices\n",
      "    train_dmatrix = create_dmatrix(\n",
      "  File \"/opt/conda/lib/python3.10/site-packages/xgboost/sklearn.py\", line 908, in _create_dmatrix\n",
      "    return DMatrix(**kwargs, nthread=self.n_jobs)\n",
      "  File \"/opt/conda/lib/python3.10/site-packages/xgboost/core.py\", line 620, in inner_f\n",
      "    return func(**kwargs)\n",
      "  File \"/opt/conda/lib/python3.10/site-packages/xgboost/core.py\", line 743, in __init__\n",
      "    handle, feature_names, feature_types = dispatch_data_backend(\n",
      "  File \"/opt/conda/lib/python3.10/site-packages/xgboost/data.py\", line 970, in dispatch_data_backend\n",
      "    return _from_pandas_df(data, enable_categorical, missing, threads,\n",
      "  File \"/opt/conda/lib/python3.10/site-packages/xgboost/data.py\", line 417, in _from_pandas_df\n",
      "    data, feature_names, feature_types = _transform_pandas_df(\n",
      "  File \"/opt/conda/lib/python3.10/site-packages/xgboost/data.py\", line 391, in _transform_pandas_df\n",
      "    _invalid_dataframe_dtype(data)\n",
      "  File \"/opt/conda/lib/python3.10/site-packages/xgboost/data.py\", line 283, in _invalid_dataframe_dtype\n",
      "    raise ValueError(msg)\n",
      "ValueError: DataFrame.dtypes for data must be int, float, bool or category. When categorical type is supplied, The experimental DMatrix parameter`enable_categorical` must be set to `True`.  Invalid columns:Campaign type: object, Source: object\n",
      "\n",
      "[W 2024-09-11 07:59:47,269] Trial 0 failed with value None.\n",
      "2024-09-11 07:59:47.269 Uncaught app exception\n",
      "Traceback (most recent call last):\n",
      "  File \"/opt/conda/lib/python3.10/site-packages/streamlit/runtime/scriptrunner/exec_code.py\", line 88, in exec_func_with_error_handling\n",
      "    result = func()\n",
      "  File \"/opt/conda/lib/python3.10/site-packages/streamlit/runtime/scriptrunner/script_runner.py\", line 590, in code_to_exec\n",
      "    exec(code, module.__dict__)\n",
      "  File \"/home/sagemaker-user/DigitalMarketingAIOptimization/app/dashboard/app.py\", line 127, in <module>\n",
      "    main()\n",
      "  File \"/home/sagemaker-user/DigitalMarketingAIOptimization/app/dashboard/app.py\", line 32, in main\n",
      "    display_model_performance(data)\n",
      "  File \"/home/sagemaker-user/DigitalMarketingAIOptimization/app/dashboard/app.py\", line 80, in display_model_performance\n",
      "    X_train, X_test, y_train, y_test = trainer.train(X, y)\n",
      "  File \"/home/sagemaker-user/DigitalMarketingAIOptimization/src/models/model_trainer.py\", line 10, in train\n",
      "    self.model.fit(X_train, y_train)\n",
      "  File \"/home/sagemaker-user/DigitalMarketingAIOptimization/src/models/ensemble_model.py\", line 44, in fit\n",
      "    self.optimize_xgboost(X, y)\n",
      "  File \"/home/sagemaker-user/DigitalMarketingAIOptimization/src/models/ensemble_model.py\", line 25, in optimize_xgboost\n",
      "    study.optimize(objective, n_trials=100)\n",
      "  File \"/opt/conda/lib/python3.10/site-packages/optuna/study/study.py\", line 475, in optimize\n",
      "    _optimize(\n",
      "  File \"/opt/conda/lib/python3.10/site-packages/optuna/study/_optimize.py\", line 63, in _optimize\n",
      "    _optimize_sequential(\n",
      "  File \"/opt/conda/lib/python3.10/site-packages/optuna/study/_optimize.py\", line 160, in _optimize_sequential\n",
      "    frozen_trial = _run_trial(study, func, catch)\n",
      "  File \"/opt/conda/lib/python3.10/site-packages/optuna/study/_optimize.py\", line 248, in _run_trial\n",
      "    raise func_err\n",
      "  File \"/opt/conda/lib/python3.10/site-packages/optuna/study/_optimize.py\", line 197, in _run_trial\n",
      "    value_or_values = func(trial)\n",
      "  File \"/home/sagemaker-user/DigitalMarketingAIOptimization/src/models/ensemble_model.py\", line 22, in objective\n",
      "    return np.mean(cross_val_score(model, X, y, cv=TimeSeriesSplit(n_splits=5)))\n",
      "  File \"/opt/conda/lib/python3.10/site-packages/sklearn/model_selection/_validation.py\", line 515, in cross_val_score\n",
      "    cv_results = cross_validate(\n",
      "  File \"/opt/conda/lib/python3.10/site-packages/sklearn/model_selection/_validation.py\", line 285, in cross_validate\n",
      "    _warn_or_raise_about_fit_failures(results, error_score)\n",
      "  File \"/opt/conda/lib/python3.10/site-packages/sklearn/model_selection/_validation.py\", line 367, in _warn_or_raise_about_fit_failures\n",
      "    raise ValueError(all_fits_failed_message)\n",
      "ValueError: \n",
      "All the 5 fits failed.\n",
      "It is very likely that your model is misconfigured.\n",
      "You can try to debug the error by setting error_score='raise'.\n",
      "\n",
      "Below are more details about the failures:\n",
      "--------------------------------------------------------------------------------\n",
      "5 fits failed with the following error:\n",
      "Traceback (most recent call last):\n",
      "  File \"/opt/conda/lib/python3.10/site-packages/sklearn/model_selection/_validation.py\", line 686, in _fit_and_score\n",
      "    estimator.fit(X_train, y_train, **fit_params)\n",
      "  File \"/opt/conda/lib/python3.10/site-packages/xgboost/core.py\", line 620, in inner_f\n",
      "    return func(**kwargs)\n",
      "  File \"/opt/conda/lib/python3.10/site-packages/xgboost/sklearn.py\", line 988, in fit\n",
      "    train_dmatrix, evals = _wrap_evaluation_matrices(\n",
      "  File \"/opt/conda/lib/python3.10/site-packages/xgboost/sklearn.py\", line 448, in _wrap_evaluation_matrices\n",
      "    train_dmatrix = create_dmatrix(\n",
      "  File \"/opt/conda/lib/python3.10/site-packages/xgboost/sklearn.py\", line 908, in _create_dmatrix\n",
      "    return DMatrix(**kwargs, nthread=self.n_jobs)\n",
      "  File \"/opt/conda/lib/python3.10/site-packages/xgboost/core.py\", line 620, in inner_f\n",
      "    return func(**kwargs)\n",
      "  File \"/opt/conda/lib/python3.10/site-packages/xgboost/core.py\", line 743, in __init__\n",
      "    handle, feature_names, feature_types = dispatch_data_backend(\n",
      "  File \"/opt/conda/lib/python3.10/site-packages/xgboost/data.py\", line 970, in dispatch_data_backend\n",
      "    return _from_pandas_df(data, enable_categorical, missing, threads,\n",
      "  File \"/opt/conda/lib/python3.10/site-packages/xgboost/data.py\", line 417, in _from_pandas_df\n",
      "    data, feature_names, feature_types = _transform_pandas_df(\n",
      "  File \"/opt/conda/lib/python3.10/site-packages/xgboost/data.py\", line 391, in _transform_pandas_df\n",
      "    _invalid_dataframe_dtype(data)\n",
      "  File \"/opt/conda/lib/python3.10/site-packages/xgboost/data.py\", line 283, in _invalid_dataframe_dtype\n",
      "    raise ValueError(msg)\n",
      "ValueError: DataFrame.dtypes for data must be int, float, bool or category. When categorical type is supplied, The experimental DMatrix parameter`enable_categorical` must be set to `True`.  Invalid columns:Campaign type: object, Source: object\n",
      "\n"
     ]
    },
    {
     "name": "stdout",
     "output_type": "stream",
     "text": [
      "Tunnels are active...\n"
     ]
    },
    {
     "name": "stderr",
     "output_type": "stream",
     "text": [
      "2024-09-11 08:00:28.676 Serialization of dataframe to Arrow table was unsuccessful due to: (\"Could not convert Timestamp('2024-03-31 18:33:10.352504832') with type Timestamp: tried to convert to int64\", 'Conversion failed for column Date with type object'). Applying automatic fixes for column types to make the dataframe Arrow-compatible.\n",
      "2024-09-11 08:00:28.747 Uncaught app exception\n",
      "Traceback (most recent call last):\n",
      "  File \"/opt/conda/lib/python3.10/site-packages/streamlit/runtime/scriptrunner/exec_code.py\", line 88, in exec_func_with_error_handling\n",
      "    result = func()\n",
      "  File \"/opt/conda/lib/python3.10/site-packages/streamlit/runtime/scriptrunner/script_runner.py\", line 590, in code_to_exec\n",
      "    exec(code, module.__dict__)\n",
      "  File \"/home/sagemaker-user/DigitalMarketingAIOptimization/app/dashboard/app.py\", line 127, in <module>\n",
      "    main()\n",
      "  File \"/home/sagemaker-user/DigitalMarketingAIOptimization/app/dashboard/app.py\", line 28, in main\n",
      "    display_data_overview(data)\n",
      "  File \"/home/sagemaker-user/DigitalMarketingAIOptimization/app/dashboard/app.py\", line 46, in display_data_overview\n",
      "    fig = plot_correlation_heatmap(data.drop('Date', axis=1))\n",
      "  File \"/home/sagemaker-user/DigitalMarketingAIOptimization/src/utils/visualizations_app.py\", line 26, in plot_correlation_heatmap\n",
      "    corr = df.corr()\n",
      "  File \"/opt/conda/lib/python3.10/site-packages/pandas/core/frame.py\", line 10704, in corr\n",
      "    mat = data.to_numpy(dtype=float, na_value=np.nan, copy=False)\n",
      "  File \"/opt/conda/lib/python3.10/site-packages/pandas/core/frame.py\", line 1889, in to_numpy\n",
      "    result = self._mgr.as_array(dtype=dtype, copy=copy, na_value=na_value)\n",
      "  File \"/opt/conda/lib/python3.10/site-packages/pandas/core/internals/managers.py\", line 1656, in as_array\n",
      "    arr = self._interleave(dtype=dtype, na_value=na_value)\n",
      "  File \"/opt/conda/lib/python3.10/site-packages/pandas/core/internals/managers.py\", line 1715, in _interleave\n",
      "    result[rl.indexer] = arr\n",
      "ValueError: could not convert string to float: 'Cross-network'\n"
     ]
    },
    {
     "name": "stdout",
     "output_type": "stream",
     "text": [
      "Tunnels are active...\n",
      "Tunnels are active...\n"
     ]
    },
    {
     "name": "stderr",
     "output_type": "stream",
     "text": [
      "2024-09-11 08:02:04.888 Serialization of dataframe to Arrow table was unsuccessful due to: (\"Could not convert Timestamp('2024-03-31 18:33:10.352504832') with type Timestamp: tried to convert to int64\", 'Conversion failed for column Date with type object'). Applying automatic fixes for column types to make the dataframe Arrow-compatible.\n",
      "2024-09-11 08:02:04.947 Uncaught app exception\n",
      "Traceback (most recent call last):\n",
      "  File \"/opt/conda/lib/python3.10/site-packages/streamlit/runtime/scriptrunner/exec_code.py\", line 88, in exec_func_with_error_handling\n",
      "    result = func()\n",
      "  File \"/opt/conda/lib/python3.10/site-packages/streamlit/runtime/scriptrunner/script_runner.py\", line 590, in code_to_exec\n",
      "    exec(code, module.__dict__)\n",
      "  File \"/home/sagemaker-user/DigitalMarketingAIOptimization/app/dashboard/app.py\", line 127, in <module>\n",
      "    main()\n",
      "  File \"/home/sagemaker-user/DigitalMarketingAIOptimization/app/dashboard/app.py\", line 28, in main\n",
      "    display_data_overview(data)\n",
      "  File \"/home/sagemaker-user/DigitalMarketingAIOptimization/app/dashboard/app.py\", line 46, in display_data_overview\n",
      "    fig = plot_correlation_heatmap(data.drop('Date', axis=1))\n",
      "  File \"/home/sagemaker-user/DigitalMarketingAIOptimization/src/utils/visualizations_app.py\", line 26, in plot_correlation_heatmap\n",
      "    corr = df.corr()\n",
      "  File \"/opt/conda/lib/python3.10/site-packages/pandas/core/frame.py\", line 10704, in corr\n",
      "    mat = data.to_numpy(dtype=float, na_value=np.nan, copy=False)\n",
      "  File \"/opt/conda/lib/python3.10/site-packages/pandas/core/frame.py\", line 1889, in to_numpy\n",
      "    result = self._mgr.as_array(dtype=dtype, copy=copy, na_value=na_value)\n",
      "  File \"/opt/conda/lib/python3.10/site-packages/pandas/core/internals/managers.py\", line 1656, in as_array\n",
      "    arr = self._interleave(dtype=dtype, na_value=na_value)\n",
      "  File \"/opt/conda/lib/python3.10/site-packages/pandas/core/internals/managers.py\", line 1715, in _interleave\n",
      "    result[rl.indexer] = arr\n",
      "ValueError: could not convert string to float: 'Cross-network'\n"
     ]
    },
    {
     "name": "stdout",
     "output_type": "stream",
     "text": [
      "Tunnels are active...\n",
      "Tunnels are active...\n",
      "Tunnels are active...\n",
      "Tunnels are active...\n"
     ]
    },
    {
     "name": "stderr",
     "output_type": "stream",
     "text": [
      "2024-09-11 08:06:22.773 Serialization of dataframe to Arrow table was unsuccessful due to: (\"Could not convert Timestamp('2024-03-31 18:33:10.352504832') with type Timestamp: tried to convert to int64\", 'Conversion failed for column Date with type object'). Applying automatic fixes for column types to make the dataframe Arrow-compatible.\n",
      "2024-09-11 08:06:22.825 Uncaught app exception\n",
      "Traceback (most recent call last):\n",
      "  File \"/opt/conda/lib/python3.10/site-packages/streamlit/runtime/scriptrunner/exec_code.py\", line 88, in exec_func_with_error_handling\n",
      "    result = func()\n",
      "  File \"/opt/conda/lib/python3.10/site-packages/streamlit/runtime/scriptrunner/script_runner.py\", line 590, in code_to_exec\n",
      "    exec(code, module.__dict__)\n",
      "  File \"/home/sagemaker-user/DigitalMarketingAIOptimization/app/dashboard/app.py\", line 127, in <module>\n",
      "    main()\n",
      "  File \"/home/sagemaker-user/DigitalMarketingAIOptimization/app/dashboard/app.py\", line 28, in main\n",
      "    display_data_overview(data)\n",
      "  File \"/home/sagemaker-user/DigitalMarketingAIOptimization/app/dashboard/app.py\", line 46, in display_data_overview\n",
      "    fig = plot_correlation_heatmap(data.drop('Date', axis=1))\n",
      "  File \"/home/sagemaker-user/DigitalMarketingAIOptimization/src/utils/visualizations_app.py\", line 26, in plot_correlation_heatmap\n",
      "    corr = df.corr()\n",
      "  File \"/opt/conda/lib/python3.10/site-packages/pandas/core/frame.py\", line 10704, in corr\n",
      "    mat = data.to_numpy(dtype=float, na_value=np.nan, copy=False)\n",
      "  File \"/opt/conda/lib/python3.10/site-packages/pandas/core/frame.py\", line 1889, in to_numpy\n",
      "    result = self._mgr.as_array(dtype=dtype, copy=copy, na_value=na_value)\n",
      "  File \"/opt/conda/lib/python3.10/site-packages/pandas/core/internals/managers.py\", line 1656, in as_array\n",
      "    arr = self._interleave(dtype=dtype, na_value=na_value)\n",
      "  File \"/opt/conda/lib/python3.10/site-packages/pandas/core/internals/managers.py\", line 1715, in _interleave\n",
      "    result[rl.indexer] = arr\n",
      "ValueError: could not convert string to float: 'Cross-network'\n"
     ]
    },
    {
     "name": "stdout",
     "output_type": "stream",
     "text": [
      "Tunnels are active...\n",
      "Tunnels are active...\n",
      "Tunnels are active...\n",
      "Tunnels are active...\n",
      "Tunnels are active...\n",
      "Tunnels are active...\n",
      "Tunnels are active...\n",
      "Tunnels are active...\n",
      "Tunnels are active...\n",
      "Tunnels are active...\n",
      "Tunnels are active...\n",
      "Tunnels are active...\n",
      "Tunnels are active...\n",
      "Tunnels are active...\n",
      "Tunnels are active...\n",
      "Tunnels are active...\n"
     ]
    }
   ],
   "source": [
    "# Keep the notebook running to maintain the tunnels\n",
    "try:\n",
    "    while True:\n",
    "        time.sleep(60)\n",
    "        print(\"Tunnels are active...\")\n",
    "except KeyboardInterrupt:\n",
    "    print(\"Stopping tunnels and servers...\")\n",
    "    ngrok.disconnect(streamlit_tunnel.public_url)\n",
    "    ngrok.disconnect(fastapi_tunnel.public_url)\n",
    "    # Attempt to stop the Streamlit and FastAPI servers\n",
    "    os.kill(os.getpid(), signal.SIGINT)\n"
   ]
  },
  {
   "cell_type": "code",
   "execution_count": null,
   "id": "bb8931d6-cb7c-4bcc-be7d-f97ca72d7a39",
   "metadata": {
    "editable": true,
    "slideshow": {
     "slide_type": ""
    },
    "tags": []
   },
   "outputs": [],
   "source": [
    "ngrok.kill()"
   ]
  },
  {
   "cell_type": "code",
   "execution_count": null,
   "id": "a751f3b0-4600-4bdc-b72d-b12296acf8e8",
   "metadata": {
    "editable": true,
    "slideshow": {
     "slide_type": ""
    },
    "tags": []
   },
   "outputs": [],
   "source": [
    "print(\"Tunnels closed. Restart your Jupyter kernel to ensure all processes are stopped.\")"
   ]
  }
 ],
 "metadata": {
  "kernelspec": {
   "display_name": "Python 3 (ipykernel)",
   "language": "python",
   "name": "python3"
  },
  "language_info": {
   "codemirror_mode": {
    "name": "ipython",
    "version": 3
   },
   "file_extension": ".py",
   "mimetype": "text/x-python",
   "name": "python",
   "nbconvert_exporter": "python",
   "pygments_lexer": "ipython3",
   "version": "3.10.14"
  }
 },
 "nbformat": 4,
 "nbformat_minor": 5
}
